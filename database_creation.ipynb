{
 "cells": [
  {
   "cell_type": "code",
   "execution_count": 6,
   "metadata": {},
   "outputs": [],
   "source": [
    "# Importing Libraries\n",
    "import pandas as pd\n",
    "import sqlite3"
   ]
  },
  {
   "cell_type": "code",
   "execution_count": 2,
   "metadata": {},
   "outputs": [],
   "source": [
    "# Connect to the database (or create it if it doesn't exist)\n",
    "conn = sqlite3.connect('zomato.db')"
   ]
  },
  {
   "cell_type": "code",
   "execution_count": 4,
   "metadata": {},
   "outputs": [],
   "source": [
    "# Load Excel files into DataFrames\n",
    "df_customers = pd.read_excel('Customers.xlsx')\n",
    "df_delivery = pd.read_excel('Delivery.xlsx')\n",
    "df_delivery_partners = pd.read_excel('Delivery_Partners.xlsx')\n",
    "df_menu = pd.read_excel('Menu.xlsx')\n",
    "df_orders = pd.read_excel('Orders.xlsx')\n",
    "df_order_items = pd.read_excel('Order_Items.xlsx')\n",
    "df_payments = pd.read_excel('Payments.xlsx')\n",
    "df_restaurants = pd.read_excel('Restaurants.xlsx')"
   ]
  },
  {
   "cell_type": "code",
   "execution_count": 5,
   "metadata": {},
   "outputs": [
    {
     "data": {
      "text/plain": [
       "1000"
      ]
     },
     "execution_count": 5,
     "metadata": {},
     "output_type": "execute_result"
    }
   ],
   "source": [
    "# Create tables in SQLite and load data\n",
    "df_customers.to_sql('Customers', conn, if_exists='replace', index=False)\n",
    "df_delivery.to_sql('Delivery', conn, if_exists='replace', index=False)\n",
    "df_delivery_partners.to_sql('Delivery_Partners', conn, if_exists='replace', index=False)\n",
    "df_menu.to_sql('Menu', conn, if_exists='replace', index=False)\n",
    "df_orders.to_sql('Orders', conn, if_exists='replace', index=False)\n",
    "df_order_items.to_sql('Order_Items', conn, if_exists='replace', index=False)\n",
    "df_payments.to_sql('Payments', conn, if_exists='replace', index=False)\n",
    "df_restaurants.to_sql('Restaurants', conn, if_exists='replace', index=False)"
   ]
  },
  {
   "cell_type": "code",
   "execution_count": null,
   "metadata": {},
   "outputs": [],
   "source": []
  }
 ],
 "metadata": {
  "kernelspec": {
   "display_name": "Python 3",
   "language": "python",
   "name": "python3"
  },
  "language_info": {
   "codemirror_mode": {
    "name": "ipython",
    "version": 3
   },
   "file_extension": ".py",
   "mimetype": "text/x-python",
   "name": "python",
   "nbconvert_exporter": "python",
   "pygments_lexer": "ipython3",
   "version": "3.12.5"
  }
 },
 "nbformat": 4,
 "nbformat_minor": 2
}
